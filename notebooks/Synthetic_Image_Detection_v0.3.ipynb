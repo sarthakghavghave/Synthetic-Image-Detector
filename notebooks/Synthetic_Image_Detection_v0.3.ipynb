{
  "cells": [
    {
      "cell_type": "markdown",
      "metadata": {
        "id": "YlAd5j3R-d5i"
      },
      "source": [
        "# Synthetic Image Detection\n",
        "---\n",
        "\n",
        "### Mk-0.3  :- Basic CNN (Multi-generator training)\n",
        "* GPU augmentation with kornia\n",
        "* Used CNN with...\n",
        "\n",
        "\n",
        "---\n",
        "\n",
        "### Data-preprocessing (GenImage -> BigGAN+VQDM dataset) :-\n",
        "\n",
        "*   Resizing all the images to 224x224 (std. for CNN based models). CNN expects fixed input shape. Avoids inconsistent pixel distributions.\n",
        "*   Resizing was done locally using python + cmd.\n"
      ]
    },
    {
      "cell_type": "markdown",
      "metadata": {},
      "source": [
        "### Requirments"
      ]
    },
    {
      "cell_type": "code",
      "execution_count": null,
      "metadata": {},
      "outputs": [
        {
          "name": "stdout",
          "output_type": "stream",
          "text": [
            "Requirement already satisfied: torch in c:\\users\\sarth\\appdata\\local\\programs\\python\\python311\\lib\\site-packages (2.9.0)\n",
            "Requirement already satisfied: filelock in c:\\users\\sarth\\appdata\\local\\programs\\python\\python311\\lib\\site-packages (from torch) (3.20.0)\n",
            "Requirement already satisfied: typing-extensions>=4.10.0 in c:\\users\\sarth\\appdata\\local\\programs\\python\\python311\\lib\\site-packages (from torch) (4.15.0)\n",
            "Requirement already satisfied: sympy>=1.13.3 in c:\\users\\sarth\\appdata\\local\\programs\\python\\python311\\lib\\site-packages (from torch) (1.14.0)\n",
            "Requirement already satisfied: networkx>=2.5.1 in c:\\users\\sarth\\appdata\\local\\programs\\python\\python311\\lib\\site-packages (from torch) (3.5)\n",
            "Requirement already satisfied: jinja2 in c:\\users\\sarth\\appdata\\local\\programs\\python\\python311\\lib\\site-packages (from torch) (3.1.6)\n",
            "Requirement already satisfied: fsspec>=0.8.5 in c:\\users\\sarth\\appdata\\local\\programs\\python\\python311\\lib\\site-packages (from torch) (2025.9.0)\n",
            "Requirement already satisfied: mpmath<1.4,>=1.1.0 in c:\\users\\sarth\\appdata\\local\\programs\\python\\python311\\lib\\site-packages (from sympy>=1.13.3->torch) (1.3.0)\n",
            "Requirement already satisfied: MarkupSafe>=2.0 in c:\\users\\sarth\\appdata\\local\\programs\\python\\python311\\lib\\site-packages (from jinja2->torch) (3.0.3)\n",
            "Note: you may need to restart the kernel to use updated packages.\n"
          ]
        },
        {
          "name": "stderr",
          "output_type": "stream",
          "text": [
            "\n",
            "[notice] A new release of pip available: 22.3 -> 25.2\n",
            "[notice] To update, run: python.exe -m pip install --upgrade pip\n"
          ]
        }
      ],
      "source": [
        "%pip install torch\n"
      ]
    },
    {
      "cell_type": "code",
      "execution_count": 2,
      "metadata": {},
      "outputs": [
        {
          "name": "stdout",
          "output_type": "stream",
          "text": [
            "Requirement already satisfied: torch in c:\\users\\sarth\\appdata\\local\\programs\\python\\python311\\lib\\site-packages (from -r requirements.txt (line 1)) (2.9.0)\n",
            "Requirement already satisfied: torchvision in c:\\users\\sarth\\appdata\\local\\programs\\python\\python311\\lib\\site-packages (from -r requirements.txt (line 2)) (0.24.0)\n",
            "Requirement already satisfied: torchaudio in c:\\users\\sarth\\appdata\\local\\programs\\python\\python311\\lib\\site-packages (from -r requirements.txt (line 3)) (2.9.0)\n",
            "Requirement already satisfied: matplotlib in c:\\users\\sarth\\appdata\\local\\programs\\python\\python311\\lib\\site-packages (from -r requirements.txt (line 4)) (3.10.7)\n",
            "Requirement already satisfied: scikit-learn in c:\\users\\sarth\\appdata\\local\\programs\\python\\python311\\lib\\site-packages (from -r requirements.txt (line 5)) (1.7.2)\n",
            "Requirement already satisfied: tqdm in c:\\users\\sarth\\appdata\\local\\programs\\python\\python311\\lib\\site-packages (from -r requirements.txt (line 6)) (4.67.1)\n",
            "Requirement already satisfied: jupyter in c:\\users\\sarth\\appdata\\local\\programs\\python\\python311\\lib\\site-packages (from -r requirements.txt (line 7)) (1.1.1)\n",
            "Requirement already satisfied: filelock in c:\\users\\sarth\\appdata\\local\\programs\\python\\python311\\lib\\site-packages (from torch->-r requirements.txt (line 1)) (3.20.0)\n",
            "Requirement already satisfied: typing-extensions>=4.10.0 in c:\\users\\sarth\\appdata\\local\\programs\\python\\python311\\lib\\site-packages (from torch->-r requirements.txt (line 1)) (4.15.0)\n",
            "Requirement already satisfied: sympy>=1.13.3 in c:\\users\\sarth\\appdata\\local\\programs\\python\\python311\\lib\\site-packages (from torch->-r requirements.txt (line 1)) (1.14.0)\n",
            "Requirement already satisfied: networkx>=2.5.1 in c:\\users\\sarth\\appdata\\local\\programs\\python\\python311\\lib\\site-packages (from torch->-r requirements.txt (line 1)) (3.5)\n",
            "Requirement already satisfied: jinja2 in c:\\users\\sarth\\appdata\\local\\programs\\python\\python311\\lib\\site-packages (from torch->-r requirements.txt (line 1)) (3.1.6)\n",
            "Requirement already satisfied: fsspec>=0.8.5 in c:\\users\\sarth\\appdata\\local\\programs\\python\\python311\\lib\\site-packages (from torch->-r requirements.txt (line 1)) (2025.9.0)\n",
            "Requirement already satisfied: numpy in c:\\users\\sarth\\appdata\\local\\programs\\python\\python311\\lib\\site-packages (from torchvision->-r requirements.txt (line 2)) (2.3.4)\n",
            "Requirement already satisfied: pillow!=8.3.*,>=5.3.0 in c:\\users\\sarth\\appdata\\local\\programs\\python\\python311\\lib\\site-packages (from torchvision->-r requirements.txt (line 2)) (12.0.0)\n",
            "Requirement already satisfied: contourpy>=1.0.1 in c:\\users\\sarth\\appdata\\local\\programs\\python\\python311\\lib\\site-packages (from matplotlib->-r requirements.txt (line 4)) (1.3.3)\n",
            "Requirement already satisfied: cycler>=0.10 in c:\\users\\sarth\\appdata\\local\\programs\\python\\python311\\lib\\site-packages (from matplotlib->-r requirements.txt (line 4)) (0.12.1)\n",
            "Requirement already satisfied: fonttools>=4.22.0 in c:\\users\\sarth\\appdata\\local\\programs\\python\\python311\\lib\\site-packages (from matplotlib->-r requirements.txt (line 4)) (4.60.1)\n",
            "Requirement already satisfied: kiwisolver>=1.3.1 in c:\\users\\sarth\\appdata\\local\\programs\\python\\python311\\lib\\site-packages (from matplotlib->-r requirements.txt (line 4)) (1.4.9)\n",
            "Requirement already satisfied: packaging>=20.0 in c:\\users\\sarth\\appdata\\local\\programs\\python\\python311\\lib\\site-packages (from matplotlib->-r requirements.txt (line 4)) (25.0)\n",
            "Requirement already satisfied: pyparsing>=3 in c:\\users\\sarth\\appdata\\local\\programs\\python\\python311\\lib\\site-packages (from matplotlib->-r requirements.txt (line 4)) (3.2.5)\n",
            "Requirement already satisfied: python-dateutil>=2.7 in c:\\users\\sarth\\appdata\\local\\programs\\python\\python311\\lib\\site-packages (from matplotlib->-r requirements.txt (line 4)) (2.9.0.post0)\n",
            "Requirement already satisfied: scipy>=1.8.0 in c:\\users\\sarth\\appdata\\local\\programs\\python\\python311\\lib\\site-packages (from scikit-learn->-r requirements.txt (line 5)) (1.16.2)\n",
            "Requirement already satisfied: joblib>=1.2.0 in c:\\users\\sarth\\appdata\\local\\programs\\python\\python311\\lib\\site-packages (from scikit-learn->-r requirements.txt (line 5)) (1.5.2)\n",
            "Requirement already satisfied: threadpoolctl>=3.1.0 in c:\\users\\sarth\\appdata\\local\\programs\\python\\python311\\lib\\site-packages (from scikit-learn->-r requirements.txt (line 5)) (3.6.0)\n",
            "Requirement already satisfied: colorama in c:\\users\\sarth\\appdata\\local\\programs\\python\\python311\\lib\\site-packages (from tqdm->-r requirements.txt (line 6)) (0.4.6)\n",
            "Requirement already satisfied: notebook in c:\\users\\sarth\\appdata\\local\\programs\\python\\python311\\lib\\site-packages (from jupyter->-r requirements.txt (line 7)) (7.4.7)\n",
            "Requirement already satisfied: jupyter-console in c:\\users\\sarth\\appdata\\local\\programs\\python\\python311\\lib\\site-packages (from jupyter->-r requirements.txt (line 7)) (6.6.3)\n",
            "Requirement already satisfied: nbconvert in c:\\users\\sarth\\appdata\\local\\programs\\python\\python311\\lib\\site-packages (from jupyter->-r requirements.txt (line 7)) (7.16.6)\n",
            "Requirement already satisfied: ipykernel in c:\\users\\sarth\\appdata\\local\\programs\\python\\python311\\lib\\site-packages (from jupyter->-r requirements.txt (line 7)) (7.0.1)\n",
            "Requirement already satisfied: ipywidgets in c:\\users\\sarth\\appdata\\local\\programs\\python\\python311\\lib\\site-packages (from jupyter->-r requirements.txt (line 7)) (8.1.7)\n",
            "Requirement already satisfied: jupyterlab in c:\\users\\sarth\\appdata\\local\\programs\\python\\python311\\lib\\site-packages (from jupyter->-r requirements.txt (line 7)) (4.4.9)\n",
            "Requirement already satisfied: six>=1.5 in c:\\users\\sarth\\appdata\\local\\programs\\python\\python311\\lib\\site-packages (from python-dateutil>=2.7->matplotlib->-r requirements.txt (line 4)) (1.17.0)\n",
            "Requirement already satisfied: mpmath<1.4,>=1.1.0 in c:\\users\\sarth\\appdata\\local\\programs\\python\\python311\\lib\\site-packages (from sympy>=1.13.3->torch->-r requirements.txt (line 1)) (1.3.0)\n",
            "Requirement already satisfied: comm>=0.1.1 in c:\\users\\sarth\\appdata\\local\\programs\\python\\python311\\lib\\site-packages (from ipykernel->jupyter->-r requirements.txt (line 7)) (0.2.3)\n",
            "Requirement already satisfied: debugpy>=1.6.5 in c:\\users\\sarth\\appdata\\local\\programs\\python\\python311\\lib\\site-packages (from ipykernel->jupyter->-r requirements.txt (line 7)) (1.8.17)\n",
            "Requirement already satisfied: ipython>=7.23.1 in c:\\users\\sarth\\appdata\\local\\programs\\python\\python311\\lib\\site-packages (from ipykernel->jupyter->-r requirements.txt (line 7)) (9.6.0)\n",
            "Requirement already satisfied: jupyter-client>=8.0.0 in c:\\users\\sarth\\appdata\\local\\programs\\python\\python311\\lib\\site-packages (from ipykernel->jupyter->-r requirements.txt (line 7)) (8.6.3)\n",
            "Requirement already satisfied: jupyter-core!=5.0.*,>=4.12 in c:\\users\\sarth\\appdata\\local\\programs\\python\\python311\\lib\\site-packages (from ipykernel->jupyter->-r requirements.txt (line 7)) (5.9.1)\n",
            "Requirement already satisfied: matplotlib-inline>=0.1 in c:\\users\\sarth\\appdata\\local\\programs\\python\\python311\\lib\\site-packages (from ipykernel->jupyter->-r requirements.txt (line 7)) (0.1.7)\n",
            "Requirement already satisfied: nest-asyncio>=1.4 in c:\\users\\sarth\\appdata\\local\\programs\\python\\python311\\lib\\site-packages (from ipykernel->jupyter->-r requirements.txt (line 7)) (1.6.0)\n",
            "Requirement already satisfied: psutil>=5.7 in c:\\users\\sarth\\appdata\\local\\programs\\python\\python311\\lib\\site-packages (from ipykernel->jupyter->-r requirements.txt (line 7)) (7.1.0)\n",
            "Requirement already satisfied: pyzmq>=25 in c:\\users\\sarth\\appdata\\local\\programs\\python\\python311\\lib\\site-packages (from ipykernel->jupyter->-r requirements.txt (line 7)) (27.1.0)\n",
            "Requirement already satisfied: tornado>=6.2 in c:\\users\\sarth\\appdata\\local\\programs\\python\\python311\\lib\\site-packages (from ipykernel->jupyter->-r requirements.txt (line 7)) (6.5.2)\n",
            "Requirement already satisfied: traitlets>=5.4.0 in c:\\users\\sarth\\appdata\\local\\programs\\python\\python311\\lib\\site-packages (from ipykernel->jupyter->-r requirements.txt (line 7)) (5.14.3)\n",
            "Requirement already satisfied: widgetsnbextension~=4.0.14 in c:\\users\\sarth\\appdata\\local\\programs\\python\\python311\\lib\\site-packages (from ipywidgets->jupyter->-r requirements.txt (line 7)) (4.0.14)\n",
            "Requirement already satisfied: jupyterlab_widgets~=3.0.15 in c:\\users\\sarth\\appdata\\local\\programs\\python\\python311\\lib\\site-packages (from ipywidgets->jupyter->-r requirements.txt (line 7)) (3.0.15)\n",
            "Requirement already satisfied: MarkupSafe>=2.0 in c:\\users\\sarth\\appdata\\local\\programs\\python\\python311\\lib\\site-packages (from jinja2->torch->-r requirements.txt (line 1)) (3.0.3)\n",
            "Requirement already satisfied: prompt-toolkit>=3.0.30 in c:\\users\\sarth\\appdata\\local\\programs\\python\\python311\\lib\\site-packages (from jupyter-console->jupyter->-r requirements.txt (line 7)) (3.0.52)\n",
            "Requirement already satisfied: pygments in c:\\users\\sarth\\appdata\\local\\programs\\python\\python311\\lib\\site-packages (from jupyter-console->jupyter->-r requirements.txt (line 7)) (2.19.2)\n",
            "Requirement already satisfied: async-lru>=1.0.0 in c:\\users\\sarth\\appdata\\local\\programs\\python\\python311\\lib\\site-packages (from jupyterlab->jupyter->-r requirements.txt (line 7)) (2.0.5)\n",
            "Requirement already satisfied: httpx<1,>=0.25.0 in c:\\users\\sarth\\appdata\\local\\programs\\python\\python311\\lib\\site-packages (from jupyterlab->jupyter->-r requirements.txt (line 7)) (0.28.1)\n",
            "Requirement already satisfied: jupyter-lsp>=2.0.0 in c:\\users\\sarth\\appdata\\local\\programs\\python\\python311\\lib\\site-packages (from jupyterlab->jupyter->-r requirements.txt (line 7)) (2.3.0)\n",
            "Requirement already satisfied: jupyter-server<3,>=2.4.0 in c:\\users\\sarth\\appdata\\local\\programs\\python\\python311\\lib\\site-packages (from jupyterlab->jupyter->-r requirements.txt (line 7)) (2.17.0)\n",
            "Requirement already satisfied: jupyterlab-server<3,>=2.27.1 in c:\\users\\sarth\\appdata\\local\\programs\\python\\python311\\lib\\site-packages (from jupyterlab->jupyter->-r requirements.txt (line 7)) (2.27.3)\n",
            "Requirement already satisfied: notebook-shim>=0.2 in c:\\users\\sarth\\appdata\\local\\programs\\python\\python311\\lib\\site-packages (from jupyterlab->jupyter->-r requirements.txt (line 7)) (0.2.4)\n",
            "Requirement already satisfied: setuptools>=41.1.0 in c:\\users\\sarth\\appdata\\local\\programs\\python\\python311\\lib\\site-packages (from jupyterlab->jupyter->-r requirements.txt (line 7)) (65.5.0)\n",
            "Requirement already satisfied: beautifulsoup4 in c:\\users\\sarth\\appdata\\local\\programs\\python\\python311\\lib\\site-packages (from nbconvert->jupyter->-r requirements.txt (line 7)) (4.14.2)\n",
            "Requirement already satisfied: bleach[css]!=5.0.0 in c:\\users\\sarth\\appdata\\local\\programs\\python\\python311\\lib\\site-packages (from nbconvert->jupyter->-r requirements.txt (line 7)) (6.2.0)\n",
            "Requirement already satisfied: defusedxml in c:\\users\\sarth\\appdata\\local\\programs\\python\\python311\\lib\\site-packages (from nbconvert->jupyter->-r requirements.txt (line 7)) (0.7.1)\n",
            "Requirement already satisfied: jupyterlab-pygments in c:\\users\\sarth\\appdata\\local\\programs\\python\\python311\\lib\\site-packages (from nbconvert->jupyter->-r requirements.txt (line 7)) (0.3.0)\n",
            "Requirement already satisfied: mistune<4,>=2.0.3 in c:\\users\\sarth\\appdata\\local\\programs\\python\\python311\\lib\\site-packages (from nbconvert->jupyter->-r requirements.txt (line 7)) (3.1.4)\n",
            "Requirement already satisfied: nbclient>=0.5.0 in c:\\users\\sarth\\appdata\\local\\programs\\python\\python311\\lib\\site-packages (from nbconvert->jupyter->-r requirements.txt (line 7)) (0.10.2)\n",
            "Requirement already satisfied: nbformat>=5.7 in c:\\users\\sarth\\appdata\\local\\programs\\python\\python311\\lib\\site-packages (from nbconvert->jupyter->-r requirements.txt (line 7)) (5.10.4)\n",
            "Requirement already satisfied: pandocfilters>=1.4.1 in c:\\users\\sarth\\appdata\\local\\programs\\python\\python311\\lib\\site-packages (from nbconvert->jupyter->-r requirements.txt (line 7)) (1.5.1)\n",
            "Requirement already satisfied: webencodings in c:\\users\\sarth\\appdata\\local\\programs\\python\\python311\\lib\\site-packages (from bleach[css]!=5.0.0->nbconvert->jupyter->-r requirements.txt (line 7)) (0.5.1)\n",
            "Requirement already satisfied: tinycss2<1.5,>=1.1.0 in c:\\users\\sarth\\appdata\\local\\programs\\python\\python311\\lib\\site-packages (from bleach[css]!=5.0.0->nbconvert->jupyter->-r requirements.txt (line 7)) (1.4.0)\n",
            "Requirement already satisfied: anyio in c:\\users\\sarth\\appdata\\local\\programs\\python\\python311\\lib\\site-packages (from httpx<1,>=0.25.0->jupyterlab->jupyter->-r requirements.txt (line 7)) (4.11.0)\n",
            "Requirement already satisfied: certifi in c:\\users\\sarth\\appdata\\local\\programs\\python\\python311\\lib\\site-packages (from httpx<1,>=0.25.0->jupyterlab->jupyter->-r requirements.txt (line 7)) (2025.10.5)\n",
            "Requirement already satisfied: httpcore==1.* in c:\\users\\sarth\\appdata\\local\\programs\\python\\python311\\lib\\site-packages (from httpx<1,>=0.25.0->jupyterlab->jupyter->-r requirements.txt (line 7)) (1.0.9)\n",
            "Requirement already satisfied: idna in c:\\users\\sarth\\appdata\\local\\programs\\python\\python311\\lib\\site-packages (from httpx<1,>=0.25.0->jupyterlab->jupyter->-r requirements.txt (line 7)) (3.11)\n",
            "Requirement already satisfied: h11>=0.16 in c:\\users\\sarth\\appdata\\local\\programs\\python\\python311\\lib\\site-packages (from httpcore==1.*->httpx<1,>=0.25.0->jupyterlab->jupyter->-r requirements.txt (line 7)) (0.16.0)\n",
            "Requirement already satisfied: decorator in c:\\users\\sarth\\appdata\\local\\programs\\python\\python311\\lib\\site-packages (from ipython>=7.23.1->ipykernel->jupyter->-r requirements.txt (line 7)) (5.2.1)\n",
            "Requirement already satisfied: ipython-pygments-lexers in c:\\users\\sarth\\appdata\\local\\programs\\python\\python311\\lib\\site-packages (from ipython>=7.23.1->ipykernel->jupyter->-r requirements.txt (line 7)) (1.1.1)\n",
            "Requirement already satisfied: jedi>=0.16 in c:\\users\\sarth\\appdata\\local\\programs\\python\\python311\\lib\\site-packages (from ipython>=7.23.1->ipykernel->jupyter->-r requirements.txt (line 7)) (0.19.2)\n",
            "Requirement already satisfied: stack_data in c:\\users\\sarth\\appdata\\local\\programs\\python\\python311\\lib\\site-packages (from ipython>=7.23.1->ipykernel->jupyter->-r requirements.txt (line 7)) (0.6.3)\n",
            "Requirement already satisfied: platformdirs>=2.5 in c:\\users\\sarth\\appdata\\local\\programs\\python\\python311\\lib\\site-packages (from jupyter-core!=5.0.*,>=4.12->ipykernel->jupyter->-r requirements.txt (line 7)) (4.5.0)\n",
            "Requirement already satisfied: argon2-cffi>=21.1 in c:\\users\\sarth\\appdata\\local\\programs\\python\\python311\\lib\\site-packages (from jupyter-server<3,>=2.4.0->jupyterlab->jupyter->-r requirements.txt (line 7)) (25.1.0)\n",
            "Requirement already satisfied: jupyter-events>=0.11.0 in c:\\users\\sarth\\appdata\\local\\programs\\python\\python311\\lib\\site-packages (from jupyter-server<3,>=2.4.0->jupyterlab->jupyter->-r requirements.txt (line 7)) (0.12.0)\n",
            "Requirement already satisfied: jupyter-server-terminals>=0.4.4 in c:\\users\\sarth\\appdata\\local\\programs\\python\\python311\\lib\\site-packages (from jupyter-server<3,>=2.4.0->jupyterlab->jupyter->-r requirements.txt (line 7)) (0.5.3)\n",
            "Requirement already satisfied: overrides>=5.0 in c:\\users\\sarth\\appdata\\local\\programs\\python\\python311\\lib\\site-packages (from jupyter-server<3,>=2.4.0->jupyterlab->jupyter->-r requirements.txt (line 7)) (7.7.0)\n",
            "Requirement already satisfied: prometheus-client>=0.9 in c:\\users\\sarth\\appdata\\local\\programs\\python\\python311\\lib\\site-packages (from jupyter-server<3,>=2.4.0->jupyterlab->jupyter->-r requirements.txt (line 7)) (0.23.1)\n",
            "Requirement already satisfied: pywinpty>=2.0.1 in c:\\users\\sarth\\appdata\\local\\programs\\python\\python311\\lib\\site-packages (from jupyter-server<3,>=2.4.0->jupyterlab->jupyter->-r requirements.txt (line 7)) (3.0.2)\n",
            "Requirement already satisfied: send2trash>=1.8.2 in c:\\users\\sarth\\appdata\\local\\programs\\python\\python311\\lib\\site-packages (from jupyter-server<3,>=2.4.0->jupyterlab->jupyter->-r requirements.txt (line 7)) (1.8.3)\n",
            "Requirement already satisfied: terminado>=0.8.3 in c:\\users\\sarth\\appdata\\local\\programs\\python\\python311\\lib\\site-packages (from jupyter-server<3,>=2.4.0->jupyterlab->jupyter->-r requirements.txt (line 7)) (0.18.1)\n",
            "Requirement already satisfied: websocket-client>=1.7 in c:\\users\\sarth\\appdata\\local\\programs\\python\\python311\\lib\\site-packages (from jupyter-server<3,>=2.4.0->jupyterlab->jupyter->-r requirements.txt (line 7)) (1.9.0)\n",
            "Requirement already satisfied: babel>=2.10 in c:\\users\\sarth\\appdata\\local\\programs\\python\\python311\\lib\\site-packages (from jupyterlab-server<3,>=2.27.1->jupyterlab->jupyter->-r requirements.txt (line 7)) (2.17.0)\n",
            "Requirement already satisfied: json5>=0.9.0 in c:\\users\\sarth\\appdata\\local\\programs\\python\\python311\\lib\\site-packages (from jupyterlab-server<3,>=2.27.1->jupyterlab->jupyter->-r requirements.txt (line 7)) (0.12.1)\n",
            "Requirement already satisfied: jsonschema>=4.18.0 in c:\\users\\sarth\\appdata\\local\\programs\\python\\python311\\lib\\site-packages (from jupyterlab-server<3,>=2.27.1->jupyterlab->jupyter->-r requirements.txt (line 7)) (4.25.1)\n",
            "Requirement already satisfied: requests>=2.31 in c:\\users\\sarth\\appdata\\local\\programs\\python\\python311\\lib\\site-packages (from jupyterlab-server<3,>=2.27.1->jupyterlab->jupyter->-r requirements.txt (line 7)) (2.32.5)\n",
            "Requirement already satisfied: fastjsonschema>=2.15 in c:\\users\\sarth\\appdata\\local\\programs\\python\\python311\\lib\\site-packages (from nbformat>=5.7->nbconvert->jupyter->-r requirements.txt (line 7)) (2.21.2)\n",
            "Requirement already satisfied: wcwidth in c:\\users\\sarth\\appdata\\local\\programs\\python\\python311\\lib\\site-packages (from prompt-toolkit>=3.0.30->jupyter-console->jupyter->-r requirements.txt (line 7)) (0.2.14)\n",
            "Requirement already satisfied: soupsieve>1.2 in c:\\users\\sarth\\appdata\\local\\programs\\python\\python311\\lib\\site-packages (from beautifulsoup4->nbconvert->jupyter->-r requirements.txt (line 7)) (2.8)\n",
            "Requirement already satisfied: sniffio>=1.1 in c:\\users\\sarth\\appdata\\local\\programs\\python\\python311\\lib\\site-packages (from anyio->httpx<1,>=0.25.0->jupyterlab->jupyter->-r requirements.txt (line 7)) (1.3.1)\n",
            "Requirement already satisfied: argon2-cffi-bindings in c:\\users\\sarth\\appdata\\local\\programs\\python\\python311\\lib\\site-packages (from argon2-cffi>=21.1->jupyter-server<3,>=2.4.0->jupyterlab->jupyter->-r requirements.txt (line 7)) (25.1.0)\n",
            "Requirement already satisfied: parso<0.9.0,>=0.8.4 in c:\\users\\sarth\\appdata\\local\\programs\\python\\python311\\lib\\site-packages (from jedi>=0.16->ipython>=7.23.1->ipykernel->jupyter->-r requirements.txt (line 7)) (0.8.5)\n",
            "Requirement already satisfied: attrs>=22.2.0 in c:\\users\\sarth\\appdata\\local\\programs\\python\\python311\\lib\\site-packages (from jsonschema>=4.18.0->jupyterlab-server<3,>=2.27.1->jupyterlab->jupyter->-r requirements.txt (line 7)) (25.4.0)\n",
            "Requirement already satisfied: jsonschema-specifications>=2023.03.6 in c:\\users\\sarth\\appdata\\local\\programs\\python\\python311\\lib\\site-packages (from jsonschema>=4.18.0->jupyterlab-server<3,>=2.27.1->jupyterlab->jupyter->-r requirements.txt (line 7)) (2025.9.1)\n",
            "Requirement already satisfied: referencing>=0.28.4 in c:\\users\\sarth\\appdata\\local\\programs\\python\\python311\\lib\\site-packages (from jsonschema>=4.18.0->jupyterlab-server<3,>=2.27.1->jupyterlab->jupyter->-r requirements.txt (line 7)) (0.37.0)\n",
            "Requirement already satisfied: rpds-py>=0.7.1 in c:\\users\\sarth\\appdata\\local\\programs\\python\\python311\\lib\\site-packages (from jsonschema>=4.18.0->jupyterlab-server<3,>=2.27.1->jupyterlab->jupyter->-r requirements.txt (line 7)) (0.27.1)\n",
            "Requirement already satisfied: python-json-logger>=2.0.4 in c:\\users\\sarth\\appdata\\local\\programs\\python\\python311\\lib\\site-packages (from jupyter-events>=0.11.0->jupyter-server<3,>=2.4.0->jupyterlab->jupyter->-r requirements.txt (line 7)) (4.0.0)\n",
            "Requirement already satisfied: pyyaml>=5.3 in c:\\users\\sarth\\appdata\\local\\programs\\python\\python311\\lib\\site-packages (from jupyter-events>=0.11.0->jupyter-server<3,>=2.4.0->jupyterlab->jupyter->-r requirements.txt (line 7)) (6.0.3)\n",
            "Requirement already satisfied: rfc3339-validator in c:\\users\\sarth\\appdata\\local\\programs\\python\\python311\\lib\\site-packages (from jupyter-events>=0.11.0->jupyter-server<3,>=2.4.0->jupyterlab->jupyter->-r requirements.txt (line 7)) (0.1.4)\n",
            "Requirement already satisfied: rfc3986-validator>=0.1.1 in c:\\users\\sarth\\appdata\\local\\programs\\python\\python311\\lib\\site-packages (from jupyter-events>=0.11.0->jupyter-server<3,>=2.4.0->jupyterlab->jupyter->-r requirements.txt (line 7)) (0.1.1)\n",
            "Requirement already satisfied: charset_normalizer<4,>=2 in c:\\users\\sarth\\appdata\\local\\programs\\python\\python311\\lib\\site-packages (from requests>=2.31->jupyterlab-server<3,>=2.27.1->jupyterlab->jupyter->-r requirements.txt (line 7)) (3.4.4)\n",
            "Requirement already satisfied: urllib3<3,>=1.21.1 in c:\\users\\sarth\\appdata\\local\\programs\\python\\python311\\lib\\site-packages (from requests>=2.31->jupyterlab-server<3,>=2.27.1->jupyterlab->jupyter->-r requirements.txt (line 7)) (2.5.0)\n",
            "Requirement already satisfied: executing>=1.2.0 in c:\\users\\sarth\\appdata\\local\\programs\\python\\python311\\lib\\site-packages (from stack_data->ipython>=7.23.1->ipykernel->jupyter->-r requirements.txt (line 7)) (2.2.1)\n",
            "Requirement already satisfied: asttokens>=2.1.0 in c:\\users\\sarth\\appdata\\local\\programs\\python\\python311\\lib\\site-packages (from stack_data->ipython>=7.23.1->ipykernel->jupyter->-r requirements.txt (line 7)) (3.0.0)\n",
            "Requirement already satisfied: pure-eval in c:\\users\\sarth\\appdata\\local\\programs\\python\\python311\\lib\\site-packages (from stack_data->ipython>=7.23.1->ipykernel->jupyter->-r requirements.txt (line 7)) (0.2.3)\n",
            "Requirement already satisfied: fqdn in c:\\users\\sarth\\appdata\\local\\programs\\python\\python311\\lib\\site-packages (from jsonschema>=4.18.0->jupyterlab-server<3,>=2.27.1->jupyterlab->jupyter->-r requirements.txt (line 7)) (1.5.1)\n",
            "Requirement already satisfied: isoduration in c:\\users\\sarth\\appdata\\local\\programs\\python\\python311\\lib\\site-packages (from jsonschema>=4.18.0->jupyterlab-server<3,>=2.27.1->jupyterlab->jupyter->-r requirements.txt (line 7)) (20.11.0)\n",
            "Requirement already satisfied: jsonpointer>1.13 in c:\\users\\sarth\\appdata\\local\\programs\\python\\python311\\lib\\site-packages (from jsonschema>=4.18.0->jupyterlab-server<3,>=2.27.1->jupyterlab->jupyter->-r requirements.txt (line 7)) (3.0.0)\n",
            "Requirement already satisfied: rfc3987-syntax>=1.1.0 in c:\\users\\sarth\\appdata\\local\\programs\\python\\python311\\lib\\site-packages (from jsonschema>=4.18.0->jupyterlab-server<3,>=2.27.1->jupyterlab->jupyter->-r requirements.txt (line 7)) (1.1.0)\n",
            "Requirement already satisfied: uri-template in c:\\users\\sarth\\appdata\\local\\programs\\python\\python311\\lib\\site-packages (from jsonschema>=4.18.0->jupyterlab-server<3,>=2.27.1->jupyterlab->jupyter->-r requirements.txt (line 7)) (1.3.0)\n",
            "Requirement already satisfied: webcolors>=24.6.0 in c:\\users\\sarth\\appdata\\local\\programs\\python\\python311\\lib\\site-packages (from jsonschema>=4.18.0->jupyterlab-server<3,>=2.27.1->jupyterlab->jupyter->-r requirements.txt (line 7)) (24.11.1)\n",
            "Requirement already satisfied: cffi>=1.0.1 in c:\\users\\sarth\\appdata\\local\\programs\\python\\python311\\lib\\site-packages (from argon2-cffi-bindings->argon2-cffi>=21.1->jupyter-server<3,>=2.4.0->jupyterlab->jupyter->-r requirements.txt (line 7)) (2.0.0)\n",
            "Requirement already satisfied: pycparser in c:\\users\\sarth\\appdata\\local\\programs\\python\\python311\\lib\\site-packages (from cffi>=1.0.1->argon2-cffi-bindings->argon2-cffi>=21.1->jupyter-server<3,>=2.4.0->jupyterlab->jupyter->-r requirements.txt (line 7)) (2.23)\n",
            "Requirement already satisfied: lark>=1.2.2 in c:\\users\\sarth\\appdata\\local\\programs\\python\\python311\\lib\\site-packages (from rfc3987-syntax>=1.1.0->jsonschema>=4.18.0->jupyterlab-server<3,>=2.27.1->jupyterlab->jupyter->-r requirements.txt (line 7)) (1.3.0)\n",
            "Requirement already satisfied: arrow>=0.15.0 in c:\\users\\sarth\\appdata\\local\\programs\\python\\python311\\lib\\site-packages (from isoduration->jsonschema>=4.18.0->jupyterlab-server<3,>=2.27.1->jupyterlab->jupyter->-r requirements.txt (line 7)) (1.4.0)\n",
            "Requirement already satisfied: tzdata in c:\\users\\sarth\\appdata\\local\\programs\\python\\python311\\lib\\site-packages (from arrow>=0.15.0->isoduration->jsonschema>=4.18.0->jupyterlab-server<3,>=2.27.1->jupyterlab->jupyter->-r requirements.txt (line 7)) (2025.2)\n",
            "Note: you may need to restart the kernel to use updated packages.\n"
          ]
        },
        {
          "name": "stderr",
          "output_type": "stream",
          "text": [
            "\n",
            "[notice] A new release of pip available: 22.3 -> 25.2\n",
            "[notice] To update, run: python.exe -m pip install --upgrade pip\n"
          ]
        }
      ],
      "source": [
        "%pip install -r requirements.txt\n"
      ]
    },
    {
      "cell_type": "code",
      "execution_count": 1,
      "metadata": {},
      "outputs": [
        {
          "name": "stdout",
          "output_type": "stream",
          "text": [
            "Collecting kornia\n",
            "  Using cached kornia-0.8.1-py2.py3-none-any.whl (1.1 MB)\n",
            "Collecting kornia_rs>=0.1.9\n",
            "  Using cached kornia_rs-0.1.9-cp311-cp311-win_amd64.whl (2.3 MB)\n",
            "Requirement already satisfied: packaging in c:\\users\\sarth\\appdata\\local\\programs\\python\\python311\\lib\\site-packages (from kornia) (25.0)\n",
            "Requirement already satisfied: torch>=1.9.1 in c:\\users\\sarth\\appdata\\local\\programs\\python\\python311\\lib\\site-packages (from kornia) (2.9.0)\n",
            "Requirement already satisfied: filelock in c:\\users\\sarth\\appdata\\local\\programs\\python\\python311\\lib\\site-packages (from torch>=1.9.1->kornia) (3.20.0)\n",
            "Requirement already satisfied: typing-extensions>=4.10.0 in c:\\users\\sarth\\appdata\\local\\programs\\python\\python311\\lib\\site-packages (from torch>=1.9.1->kornia) (4.15.0)\n",
            "Requirement already satisfied: sympy>=1.13.3 in c:\\users\\sarth\\appdata\\local\\programs\\python\\python311\\lib\\site-packages (from torch>=1.9.1->kornia) (1.14.0)\n",
            "Requirement already satisfied: networkx>=2.5.1 in c:\\users\\sarth\\appdata\\local\\programs\\python\\python311\\lib\\site-packages (from torch>=1.9.1->kornia) (3.5)\n",
            "Requirement already satisfied: jinja2 in c:\\users\\sarth\\appdata\\local\\programs\\python\\python311\\lib\\site-packages (from torch>=1.9.1->kornia) (3.1.6)\n",
            "Requirement already satisfied: fsspec>=0.8.5 in c:\\users\\sarth\\appdata\\local\\programs\\python\\python311\\lib\\site-packages (from torch>=1.9.1->kornia) (2025.9.0)\n",
            "Requirement already satisfied: mpmath<1.4,>=1.1.0 in c:\\users\\sarth\\appdata\\local\\programs\\python\\python311\\lib\\site-packages (from sympy>=1.13.3->torch>=1.9.1->kornia) (1.3.0)\n",
            "Requirement already satisfied: MarkupSafe>=2.0 in c:\\users\\sarth\\appdata\\local\\programs\\python\\python311\\lib\\site-packages (from jinja2->torch>=1.9.1->kornia) (3.0.3)\n",
            "Installing collected packages: kornia_rs, kornia\n",
            "Successfully installed kornia-0.8.1 kornia_rs-0.1.9\n",
            "Note: you may need to restart the kernel to use updated packages.\n"
          ]
        },
        {
          "name": "stderr",
          "output_type": "stream",
          "text": [
            "\n",
            "[notice] A new release of pip available: 22.3 -> 25.2\n",
            "[notice] To update, run: python.exe -m pip install --upgrade pip\n"
          ]
        }
      ],
      "source": [
        "%pip install kornia\n"
      ]
    },
    {
      "cell_type": "code",
      "execution_count": 13,
      "metadata": {},
      "outputs": [],
      "source": [
        "import os\n",
        "import time\n",
        "import numpy as np\n",
        "from tqdm import tqdm\n",
        "import matplotlib.pyplot as plt\n",
        "from sklearn.metrics import confusion_matrix, ConfusionMatrixDisplay\n",
        "from sklearn.metrics import classification_report\n",
        "from sklearn.metrics import roc_auc_score\n",
        "import torch\n",
        "import torch.nn as nn\n",
        "import torch.optim as optim\n",
        "from torchvision import datasets, transforms\n",
        "from torch.utils.data import DataLoader\n",
        "from torch.cuda.amp import GradScaler, autocast\n",
        "from PIL import Image\n",
        "import kornia.augmentation as K\n"
      ]
    },
    {
      "cell_type": "code",
      "execution_count": 3,
      "metadata": {},
      "outputs": [],
      "source": [
        "# ensures Reproducibility (Phirse same results on every run)\n",
        "import random\n",
        "\n",
        "torch.manual_seed(42)\n",
        "np.random.seed(42)\n",
        "random.seed(42)\n",
        "if torch.cuda.is_available():\n",
        "    torch.cuda.manual_seed_all(42)\n"
      ]
    },
    {
      "cell_type": "markdown",
      "metadata": {
        "id": "WBDIRP_hAO2K"
      },
      "source": [
        "### Data loading"
      ]
    },
    {
      "cell_type": "code",
      "execution_count": 4,
      "metadata": {
        "colab": {
          "base_uri": "https://localhost:8080/"
        },
        "id": "sBSXJKdJD5KB",
        "outputId": "e6aec868-2f0d-47a7-da23-b8f6e6dc3af4"
      },
      "outputs": [
        {
          "name": "stdout",
          "output_type": "stream",
          "text": [
            "Train Directory: ['ai', 'nature']\n",
            "Test Directory: ['ai', 'nature']\n"
          ]
        }
      ],
      "source": [
        "# directories\n",
        "train_dir = rf\"C:\\Users\\sarth\\Dataset\\train\"\n",
        "test_dir = rf\"C:\\Users\\sarth\\Dataset\\val\"\n",
        "\n",
        "# Check contents of the folders\n",
        "print(\"Train Directory:\", os.listdir(train_dir))\n",
        "print(\"Test Directory:\", os.listdir(test_dir))\n"
      ]
    },
    {
      "cell_type": "code",
      "execution_count": 5,
      "metadata": {
        "id": "wvtqBK8GEQvm"
      },
      "outputs": [
        {
          "name": "stdout",
          "output_type": "stream",
          "text": [
            "Train samples: 647996 | Val samples: 24000\n",
            "Classes: ['ai', 'nature']\n"
          ]
        }
      ],
      "source": [
        "# Basic transform to load images as tensors on CPU first\n",
        "train_base_transform = transforms.Compose([\n",
        "    transforms.ToTensor(),  # just convert to tensor\n",
        "])\n",
        "\n",
        "val_transform = transforms.Compose([\n",
        "    transforms.ToTensor(),\n",
        "    transforms.Resize((224, 224))\n",
        "])\n",
        "\n",
        "# Datasets\n",
        "train_dataset = datasets.ImageFolder(root=train_dir, transform=train_base_transform)\n",
        "val_dataset = datasets.ImageFolder(root=test_dir, transform=val_transform)\n",
        "\n",
        "# Dataloaders (CPU only does basic loading)\n",
        "batch_size = 32\n",
        "num_workers = 2\n",
        "\n",
        "train_loader = DataLoader(\n",
        "    train_dataset,\n",
        "    batch_size=batch_size,\n",
        "    shuffle=True,\n",
        "    num_workers=num_workers,\n",
        "    pin_memory=False,\n",
        "    persistent_workers=True,\n",
        "    prefetch_factor=1\n",
        ")\n",
        "\n",
        "val_loader = DataLoader(\n",
        "    val_dataset,\n",
        "    batch_size=batch_size,\n",
        "    shuffle=False,\n",
        "    num_workers=num_workers,\n",
        "    pin_memory=False,\n",
        "    persistent_workers=True,\n",
        "    prefetch_factor=1\n",
        ")\n",
        "\n",
        "# Define GPU augmentations using Kornia\n",
        "device = torch.device(\"cuda\" if torch.cuda.is_available() else \"cpu\")\n",
        "\n",
        "gpu_train_augment = K.AugmentationSequential(\n",
        "    K.RandomCrop((224, 224), padding=8),\n",
        "    K.RandomHorizontalFlip(p=0.5),\n",
        "    K.RandomRotation(degrees=15.0),\n",
        "    K.ColorJitter(brightness=0.15, contrast=0.15, saturation=0.15),\n",
        "    K.RandomGaussianBlur((3, 3), (0.1, 1.0)),\n",
        "    data_keys=[\"input\"]\n",
        ").to(device)\n",
        "\n",
        "# Normalization function (after GPU augmentation)\n",
        "mean = torch.tensor([0.485, 0.456, 0.406], device=device).view(1, 3, 1, 1)\n",
        "std = torch.tensor([0.229, 0.224, 0.225], device=device).view(1, 3, 1, 1)\n",
        "\n",
        "def normalize_batch(batch):\n",
        "    return (batch - mean) / std\n",
        "\n",
        "print(f\"Train samples: {len(train_dataset)} | Val samples: {len(val_dataset)}\")\n",
        "print(f\"Classes: {train_dataset.classes}\")\n"
      ]
    },
    {
      "cell_type": "markdown",
      "metadata": {},
      "source": [
        "### Checking loaders & resource (GPU)"
      ]
    },
    {
      "cell_type": "code",
      "execution_count": 5,
      "metadata": {},
      "outputs": [
        {
          "name": "stdout",
          "output_type": "stream",
          "text": [
            "Checking folder: C:\\Users\\sarth\\Dataset\\train\\ai\n"
          ]
        },
        {
          "name": "stderr",
          "output_type": "stream",
          "text": [
            "ai: 100%|██████████| 323996/323996 [01:52<00:00, 2891.15it/s]\n"
          ]
        },
        {
          "name": "stdout",
          "output_type": "stream",
          "text": [
            "Checking folder: C:\\Users\\sarth\\Dataset\\train\\nature\n"
          ]
        },
        {
          "name": "stderr",
          "output_type": "stream",
          "text": [
            "nature: 100%|██████████| 324000/324000 [01:48<00:00, 2973.53it/s]\n"
          ]
        },
        {
          "name": "stdout",
          "output_type": "stream",
          "text": [
            "Checking folder: C:\\Users\\sarth\\Dataset\\val\\ai\n"
          ]
        },
        {
          "name": "stderr",
          "output_type": "stream",
          "text": [
            "ai: 100%|██████████| 12000/12000 [00:04<00:00, 2800.62it/s]\n"
          ]
        },
        {
          "name": "stdout",
          "output_type": "stream",
          "text": [
            "Checking folder: C:\\Users\\sarth\\Dataset\\val\\nature\n"
          ]
        },
        {
          "name": "stderr",
          "output_type": "stream",
          "text": [
            "nature: 100%|██████████| 12000/12000 [00:04<00:00, 2666.42it/s]"
          ]
        },
        {
          "name": "stdout",
          "output_type": "stream",
          "text": [
            "\n",
            "Scan complete. 0 bad images found.\n"
          ]
        },
        {
          "name": "stderr",
          "output_type": "stream",
          "text": [
            "\n"
          ]
        }
      ],
      "source": [
        "# Check for corrupted images in dataset folders\n",
        "FOLDERS = [\n",
        "    rf\"C:\\Users\\sarth\\Dataset\\train\\ai\",\n",
        "    rf\"C:\\Users\\sarth\\Dataset\\train\\nature\",\n",
        "    rf\"C:\\Users\\sarth\\Dataset\\val\\ai\",\n",
        "    rf\"C:\\Users\\sarth\\Dataset\\val\\nature\"\n",
        "]\n",
        "\n",
        "bad_files = []\n",
        "\n",
        "for folder in FOLDERS:\n",
        "    print(f\"Checking folder: {folder}\")\n",
        "    files = [\n",
        "        f for f in os.listdir(folder)\n",
        "        if f.lower().endswith((\".jpg\", \".jpeg\", \".png\", \".bmp\"))\n",
        "    ]\n",
        "    for f in tqdm(files, desc=os.path.basename(folder)):\n",
        "        path = os.path.join(folder, f)\n",
        "        try:\n",
        "            with Image.open(path) as img:\n",
        "                img.verify()  # Checks for corruption\n",
        "        except Exception as e:\n",
        "            bad_files.append((path, str(e)))\n",
        "\n",
        "print(f\"\\nScan complete. {len(bad_files)} bad images found.\")\n",
        "if bad_files:\n",
        "    print(\"Examples:\")\n",
        "    for bf in bad_files[:10]:\n",
        "        print(\"  \", bf[0])\n"
      ]
    },
    {
      "cell_type": "code",
      "execution_count": 6,
      "metadata": {},
      "outputs": [
        {
          "name": "stdout",
          "output_type": "stream",
          "text": [
            "False\n"
          ]
        }
      ],
      "source": [
        "import torch\n",
        "print(torch.cuda.is_available())\n",
        "if torch.cuda.is_available():\n",
        "    print(torch.cuda.get_device_name(0))\n"
      ]
    },
    {
      "cell_type": "code",
      "execution_count": 7,
      "metadata": {},
      "outputs": [
        {
          "name": "stdout",
          "output_type": "stream",
          "text": [
            "CUDA available: False\n"
          ]
        }
      ],
      "source": [
        "import torch\n",
        "print(\"CUDA available:\", torch.cuda.is_available())\n",
        "if torch.cuda.is_available():\n",
        "    print(\"GPU:\", torch.cuda.get_device_name(0))\n"
      ]
    },
    {
      "cell_type": "markdown",
      "metadata": {
        "id": "eKIw6jW7Kn7c"
      },
      "source": [
        "### Defining basic CNN"
      ]
    },
    {
      "cell_type": "code",
      "execution_count": 10,
      "metadata": {
        "id": "nPScCyZhKnfF"
      },
      "outputs": [],
      "source": [
        "# SImpleCNN upgraded with explicit Grad-CAM layer and regularization\n",
        "class SimpleCNN_v2(nn.Module):\n",
        "    def __init__(self):\n",
        "        super(SimpleCNN_v2, self).__init__()\n",
        "\n",
        "        self.conv_block1 = nn.Sequential(\n",
        "            nn.Conv2d(3, 32, 3, padding=1),\n",
        "            nn.BatchNorm2d(32), # stabilizes gradients\n",
        "            nn.ReLU(),\n",
        "            nn.MaxPool2d(2)\n",
        "        )\n",
        "\n",
        "        self.conv_block2 = nn.Sequential(\n",
        "            nn.Conv2d(32, 64, 3, padding=1),\n",
        "            nn.BatchNorm2d(64),\n",
        "            nn.ReLU(),\n",
        "            nn.MaxPool2d(2)\n",
        "        )\n",
        "\n",
        "        # Explicit Grad-CAM layer\n",
        "        self.last_conv = nn.Conv2d(64, 256, 3, padding=1)\n",
        "        self.bn_last   = nn.BatchNorm2d(256)\n",
        "        self.relu_last = nn.ReLU()\n",
        "        self.pool_last = nn.MaxPool2d(2)\n",
        "\n",
        "        # Global average pooling and classifier\n",
        "        self.gap = nn.AdaptiveAvgPool2d(1) # Reduces Overfitting and enables Grad-CAM (Regularization)\n",
        "\n",
        "        self.fc_layers = nn.Sequential(\n",
        "            nn.Flatten(),\n",
        "            nn.ReLU(),           # Adds non-linearity before FC layers\n",
        "            nn.Linear(256, 64),\n",
        "            nn.ReLU(),\n",
        "            nn.Dropout(0.4),     # Regularization (Reduces overfitting)\n",
        "            nn.Linear(64, 1)\n",
        "        )\n",
        "\n",
        "    def forward(self, x):\n",
        "        x = self.conv_block1(x)\n",
        "        x = self.conv_block2(x)\n",
        "        x = self.last_conv(x)\n",
        "        x = self.bn_last(x)\n",
        "        x = self.relu_last(x)\n",
        "        x = self.pool_last(x)\n",
        "        x = self.gap(x)\n",
        "        x = self.fc_layers(x)\n",
        "        return x\n",
        "\n",
        "# Instantiate model\n",
        "model = SimpleCNN_v2()\n"
      ]
    },
    {
      "cell_type": "markdown",
      "metadata": {
        "id": "_5kjnQ5ow13I"
      },
      "source": [
        "### Model Training"
      ]
    },
    {
      "cell_type": "code",
      "execution_count": 8,
      "metadata": {
        "colab": {
          "base_uri": "https://localhost:8080/"
        },
        "id": "iYAg3YDHwmDe",
        "outputId": "3cc71ac1-7c5b-472b-c7d2-7fd295d25df1"
      },
      "outputs": [
        {
          "name": "stderr",
          "output_type": "stream",
          "text": [
            "C:\\Users\\sarth\\AppData\\Local\\Temp\\ipykernel_25156\\2739816746.py:26: FutureWarning: You are using `torch.load` with `weights_only=False` (the current default value), which uses the default pickle module implicitly. It is possible to construct malicious pickle data which will execute arbitrary code during unpickling (See https://github.com/pytorch/pytorch/blob/main/SECURITY.md#untrusted-models for more details). In a future release, the default value for `weights_only` will be flipped to `True`. This limits the functions that could be executed during unpickling. Arbitrary objects will no longer be allowed to be loaded via this mode unless they are explicitly allowlisted by the user via `torch.serialization.add_safe_globals`. We recommend you start setting `weights_only=True` for any use case where you don't have full control of the loaded file. Please open an issue on GitHub for any issues related to this experimental feature.\n",
            "  checkpoint = torch.load(checkpoint_path, map_location=device)\n"
          ]
        },
        {
          "name": "stdout",
          "output_type": "stream",
          "text": [
            "Resuming from last checkpoint...\n",
            "Resumed from epoch 1 with best accuracy 0.8860\n",
            "Epoch 2/10: \n"
          ]
        },
        {
          "name": "stderr",
          "output_type": "stream",
          "text": [
            "Training:  52%|█████▏    | 10625/20250 [48:17<43:44,  3.67batch/s, loss=0.457]  \n"
          ]
        },
        {
          "ename": "KeyboardInterrupt",
          "evalue": "",
          "output_type": "error",
          "traceback": [
            "\u001b[31m---------------------------------------------------------------------------\u001b[39m",
            "\u001b[31mKeyboardInterrupt\u001b[39m                         Traceback (most recent call last)",
            "\u001b[36mCell\u001b[39m\u001b[36m \u001b[39m\u001b[32mIn[8]\u001b[39m\u001b[32m, line 60\u001b[39m\n\u001b[32m     58\u001b[39m scaler.scale(loss).backward()\n\u001b[32m     59\u001b[39m \u001b[38;5;66;03m# torch.nn.utils.clip_grad_norm_(model.parameters(), max_norm=2.0)    # Gradients stable is not needed as we stabalised it with BatchNorm and Mixed Precision\u001b[39;00m\n\u001b[32m---> \u001b[39m\u001b[32m60\u001b[39m \u001b[43mscaler\u001b[49m\u001b[43m.\u001b[49m\u001b[43mstep\u001b[49m\u001b[43m(\u001b[49m\u001b[43moptimizer\u001b[49m\u001b[43m)\u001b[49m\n\u001b[32m     61\u001b[39m scaler.update()\n\u001b[32m     63\u001b[39m running_loss += loss.detach().item()\n",
            "\u001b[36mFile \u001b[39m\u001b[32md:\\sarthak\\RCOEM\\3rd\\Projects\\ML\\Synthetic Media detection\\cuda-venv\\Lib\\site-packages\\torch\\amp\\grad_scaler.py:457\u001b[39m, in \u001b[36mGradScaler.step\u001b[39m\u001b[34m(self, optimizer, *args, **kwargs)\u001b[39m\n\u001b[32m    451\u001b[39m     \u001b[38;5;28mself\u001b[39m.unscale_(optimizer)\n\u001b[32m    453\u001b[39m \u001b[38;5;28;01massert\u001b[39;00m (\n\u001b[32m    454\u001b[39m     \u001b[38;5;28mlen\u001b[39m(optimizer_state[\u001b[33m\"\u001b[39m\u001b[33mfound_inf_per_device\u001b[39m\u001b[33m\"\u001b[39m]) > \u001b[32m0\u001b[39m\n\u001b[32m    455\u001b[39m ), \u001b[33m\"\u001b[39m\u001b[33mNo inf checks were recorded for this optimizer.\u001b[39m\u001b[33m\"\u001b[39m\n\u001b[32m--> \u001b[39m\u001b[32m457\u001b[39m retval = \u001b[38;5;28;43mself\u001b[39;49m\u001b[43m.\u001b[49m\u001b[43m_maybe_opt_step\u001b[49m\u001b[43m(\u001b[49m\u001b[43moptimizer\u001b[49m\u001b[43m,\u001b[49m\u001b[43m \u001b[49m\u001b[43moptimizer_state\u001b[49m\u001b[43m,\u001b[49m\u001b[43m \u001b[49m\u001b[43m*\u001b[49m\u001b[43margs\u001b[49m\u001b[43m,\u001b[49m\u001b[43m \u001b[49m\u001b[43m*\u001b[49m\u001b[43m*\u001b[49m\u001b[43mkwargs\u001b[49m\u001b[43m)\u001b[49m\n\u001b[32m    459\u001b[39m optimizer_state[\u001b[33m\"\u001b[39m\u001b[33mstage\u001b[39m\u001b[33m\"\u001b[39m] = OptState.STEPPED\n\u001b[32m    461\u001b[39m \u001b[38;5;28;01mreturn\u001b[39;00m retval\n",
            "\u001b[36mFile \u001b[39m\u001b[32md:\\sarthak\\RCOEM\\3rd\\Projects\\ML\\Synthetic Media detection\\cuda-venv\\Lib\\site-packages\\torch\\amp\\grad_scaler.py:351\u001b[39m, in \u001b[36mGradScaler._maybe_opt_step\u001b[39m\u001b[34m(self, optimizer, optimizer_state, *args, **kwargs)\u001b[39m\n\u001b[32m    343\u001b[39m \u001b[38;5;28;01mdef\u001b[39;00m\u001b[38;5;250m \u001b[39m\u001b[34m_maybe_opt_step\u001b[39m(\n\u001b[32m    344\u001b[39m     \u001b[38;5;28mself\u001b[39m,\n\u001b[32m    345\u001b[39m     optimizer: torch.optim.Optimizer,\n\u001b[32m   (...)\u001b[39m\u001b[32m    348\u001b[39m     **kwargs: Any,\n\u001b[32m    349\u001b[39m ) -> Optional[\u001b[38;5;28mfloat\u001b[39m]:\n\u001b[32m    350\u001b[39m     retval: Optional[\u001b[38;5;28mfloat\u001b[39m] = \u001b[38;5;28;01mNone\u001b[39;00m\n\u001b[32m--> \u001b[39m\u001b[32m351\u001b[39m     \u001b[38;5;28;01mif\u001b[39;00m \u001b[38;5;129;01mnot\u001b[39;00m \u001b[38;5;28msum\u001b[39m(v.item() \u001b[38;5;28;01mfor\u001b[39;00m v \u001b[38;5;129;01min\u001b[39;00m optimizer_state[\u001b[33m\"\u001b[39m\u001b[33mfound_inf_per_device\u001b[39m\u001b[33m\"\u001b[39m].values()):\n\u001b[32m    352\u001b[39m         retval = optimizer.step(*args, **kwargs)\n\u001b[32m    353\u001b[39m     \u001b[38;5;28;01mreturn\u001b[39;00m retval\n",
            "\u001b[36mFile \u001b[39m\u001b[32md:\\sarthak\\RCOEM\\3rd\\Projects\\ML\\Synthetic Media detection\\cuda-venv\\Lib\\site-packages\\torch\\amp\\grad_scaler.py:351\u001b[39m, in \u001b[36m<genexpr>\u001b[39m\u001b[34m(.0)\u001b[39m\n\u001b[32m    343\u001b[39m \u001b[38;5;28;01mdef\u001b[39;00m\u001b[38;5;250m \u001b[39m\u001b[34m_maybe_opt_step\u001b[39m(\n\u001b[32m    344\u001b[39m     \u001b[38;5;28mself\u001b[39m,\n\u001b[32m    345\u001b[39m     optimizer: torch.optim.Optimizer,\n\u001b[32m   (...)\u001b[39m\u001b[32m    348\u001b[39m     **kwargs: Any,\n\u001b[32m    349\u001b[39m ) -> Optional[\u001b[38;5;28mfloat\u001b[39m]:\n\u001b[32m    350\u001b[39m     retval: Optional[\u001b[38;5;28mfloat\u001b[39m] = \u001b[38;5;28;01mNone\u001b[39;00m\n\u001b[32m--> \u001b[39m\u001b[32m351\u001b[39m     \u001b[38;5;28;01mif\u001b[39;00m \u001b[38;5;129;01mnot\u001b[39;00m \u001b[38;5;28msum\u001b[39m(\u001b[43mv\u001b[49m\u001b[43m.\u001b[49m\u001b[43mitem\u001b[49m\u001b[43m(\u001b[49m\u001b[43m)\u001b[49m \u001b[38;5;28;01mfor\u001b[39;00m v \u001b[38;5;129;01min\u001b[39;00m optimizer_state[\u001b[33m\"\u001b[39m\u001b[33mfound_inf_per_device\u001b[39m\u001b[33m\"\u001b[39m].values()):\n\u001b[32m    352\u001b[39m         retval = optimizer.step(*args, **kwargs)\n\u001b[32m    353\u001b[39m     \u001b[38;5;28;01mreturn\u001b[39;00m retval\n",
            "\u001b[31mKeyboardInterrupt\u001b[39m: "
          ]
        }
      ],
      "source": [
        "# Setup for training with checkpointing\n",
        "device = torch.device(\"cuda\" if torch.cuda.is_available() else \"cpu\")\n",
        "model = SimpleCNN_v2().to(device)\n",
        "\n",
        "criterion = nn.BCEWithLogitsLoss()      # More stable than BCELoss with raw outputs (stable binary classification)\n",
        "optimizer = optim.Adam(model.parameters(), lr=1e-4, weight_decay=1e-4)  # L2 Regularization\n",
        "\n",
        "# Learning Rate Scheduler\n",
        "scheduler = optim.lr_scheduler.ReduceLROnPlateau(optimizer, mode='min', patience=2, factor=0.7) # reduces LR only if validation accuracy plateaus\n",
        "scaler = torch.amp.GradScaler(\"cuda\") # for safe scaling during backprop\n",
        "\n",
        "# Maintaing history for analysis\n",
        "history = {\"train_loss\": [], \"val_acc\": [], \"val_loss\": [], \"lr\": []}\n",
        "\n",
        "# Directory for saving checkpoints\n",
        "checkpoint_dir = \"checkpoints\"\n",
        "os.makedirs(checkpoint_dir, exist_ok=True)\n",
        "checkpoint_path = os.path.join(checkpoint_dir, \"last_checkpoint.pth\")\n",
        "\n",
        "start_epoch = 0\n",
        "best_acc = 0.0\n",
        "\n",
        "# Load checkpoint if resuming\n",
        "if os.path.exists(checkpoint_path):\n",
        "    print(\"Resuming from last checkpoint...\")\n",
        "    checkpoint = torch.load(checkpoint_path, map_location=device)\n",
        "    model.load_state_dict(checkpoint[\"model_state\"])\n",
        "    optimizer.load_state_dict(checkpoint[\"optimizer_state\"])\n",
        "    scheduler.load_state_dict(checkpoint[\"scheduler_state\"])\n",
        "    scaler.load_state_dict(checkpoint[\"scaler_state\"])\n",
        "    start_epoch = checkpoint[\"epoch\"] + 1\n",
        "    best_acc = checkpoint.get(\"best_acc\", 0.0)\n",
        "    print(f\"Resumed from epoch {start_epoch} with best accuracy {best_acc:.4f}\")\n",
        "\n",
        "patience = 3  # for early stopping: stop after 3 epochs with no improvement\n",
        "patience_counter = 0\n",
        "epochs = 10\n",
        "\n",
        "# Training loop\n",
        "for epoch in range(start_epoch, epochs):\n",
        "    model.train()\n",
        "    running_loss = 0.0\n",
        "    print(f\"Epoch {epoch+1}/{epochs}: \")\n",
        "\n",
        "    with tqdm(train_loader, desc=\"Training\", unit=\"batch\") as tepoch:\n",
        "        for images, labels in tepoch:\n",
        "            images, labels = images.to(device), labels.float().unsqueeze(1).to(device)\n",
        "\n",
        "            images = gpu_train_augment(images)\n",
        "            images = normalize_batch(images)\n",
        "\n",
        "            optimizer.zero_grad()               # clear gradients for next batch\n",
        "            with torch.amp.autocast(\"cuda\"):    # Mixed precision forward\n",
        "                outputs = model(images)\n",
        "                loss = criterion(outputs, labels)\n",
        "\n",
        "            # backward pass\n",
        "            scaler.scale(loss).backward()\n",
        "            # torch.nn.utils.clip_grad_norm_(model.parameters(), max_norm=2.0)    # Gradients stable is not needed as we stabalised it with BatchNorm and Mixed Precision\n",
        "            scaler.step(optimizer)\n",
        "            scaler.update()\n",
        "\n",
        "            running_loss += loss.detach().item()\n",
        "            tepoch.set_postfix(loss=loss.item())\n",
        "\n",
        "\n",
        "    # Validation\n",
        "    model.eval()\n",
        "    correct, total, val_loss = 0, 0, 0.0\n",
        "    with torch.no_grad():\n",
        "        for images, labels in val_loader:\n",
        "            images, labels = images.to(device), labels.to(device)\n",
        "\n",
        "            images = normalize_batch(images)\n",
        "\n",
        "            outputs = model(images)\n",
        "            loss_val = criterion(outputs, labels.unsqueeze(1).float())\n",
        "            val_loss += loss_val.item()\n",
        "            preds = (torch.sigmoid(outputs) > 0.5).float()\n",
        "            correct += (preds == labels.unsqueeze(1)).sum().item()\n",
        "            total += labels.size(0)\n",
        "\n",
        "    val_acc = correct / total\n",
        "    val_loss /= len(val_loader)\n",
        "    avg_loss = running_loss / len(train_loader)\n",
        "\n",
        "    scheduler.step(val_loss) # step based on validation loss\n",
        "\n",
        "    if (epoch + 1) % 2 == 0 and device.type == \"cuda\":\n",
        "        print(\"Clearing unused CUDA memory to avoid fragmentation...\")\n",
        "        torch.cuda.empty_cache()        # clear unused memory every 2 epochs to avoid fragmentation\n",
        "\n",
        "    current_lr = optimizer.param_groups[0]['lr'] # get current learning rate\n",
        "\n",
        "    print(f\"Epoch {epoch+1} | Train Loss: {avg_loss:.4f} | Val Loss: {val_loss:.4f} | Val Acc: {val_acc:.4f} | LR: {current_lr:.6f}\")\n",
        "\n",
        "    history[\"train_loss\"].append(avg_loss)\n",
        "    history[\"val_acc\"].append(val_acc)\n",
        "    history[\"val_loss\"].append(val_loss)\n",
        "    history[\"lr\"].append(current_lr)\n",
        "\n",
        "\n",
        "    # Proactive early stopping based on validation accuracy\n",
        "    if val_acc > best_acc:\n",
        "        best_acc = val_acc\n",
        "        patience_counter = 0  # reset counter\n",
        "        best_checkpoint = {\n",
        "            \"epoch\": epoch,\n",
        "            \"model_state\": model.state_dict(),\n",
        "            \"optimizer_state\": optimizer.state_dict(),\n",
        "            \"scheduler_state\": scheduler.state_dict(),\n",
        "            \"scaler_state\": scaler.state_dict(),\n",
        "            \"best_acc\": best_acc\n",
        "        }\n",
        "        torch.save(best_checkpoint, os.path.join(checkpoint_dir, \"best_checkpoint.pth\"))\n",
        "        print(f\"Best model updated! New Val Acc: {best_acc:.4f}\")\n",
        "    else:\n",
        "        patience_counter += 1\n",
        "        print(f\"No improvement for {patience_counter}/{patience} epochs.\")\n",
        "\n",
        "    # Initiate early stop\n",
        "    if patience_counter >= patience:\n",
        "        print(\"\\nEarly stopping initiated: no improvement for 3 epochs.\")\n",
        "        torch.save(best_checkpoint, os.path.join(checkpoint_dir, \"final_best_model.pth\"))\n",
        "        print(\"Final best model saved before stopping.\")\n",
        "        break\n",
        "\n",
        "\n",
        "    # Save checkpoints\n",
        "    checkpoint = {\n",
        "        \"epoch\": epoch,\n",
        "        \"model_state\": model.state_dict(),\n",
        "        \"optimizer_state\": optimizer.state_dict(),\n",
        "        \"scheduler_state\": scheduler.state_dict(),\n",
        "        \"scaler_state\": scaler.state_dict(),\n",
        "        \"best_acc\": best_acc\n",
        "    }\n",
        "    torch.save(checkpoint, checkpoint_path)\n",
        "    print(f\"Checkpoint saved at epoch {epoch+1}\")\n",
        "    print(\"Initiating next epoch in 20 seconds...\")\n",
        "    time.sleep(20)  # CPU cooldown before next epoch\n",
        "\n",
        "\n",
        "\n",
        "print(\"\\nTraining complete 🔥\")\n"
      ]
    },
    {
      "cell_type": "code",
      "execution_count": 10,
      "metadata": {},
      "outputs": [],
      "source": [
        "torch.cuda.empty_cache() # Clears VRAM memory cache\n"
      ]
    },
    {
      "cell_type": "markdown",
      "metadata": {},
      "source": [
        "### Analysis"
      ]
    },
    {
      "cell_type": "code",
      "execution_count": null,
      "metadata": {},
      "outputs": [
        {
          "data": {
            "text/plain": [
              "<All keys matched successfully>"
            ]
          },
          "execution_count": 11,
          "metadata": {},
          "output_type": "execute_result"
        }
      ],
      "source": [
        "# load best model for evaluation\n",
        "checkpoint_dir = \"checkpoints\"\n",
        "checkpoint = torch.load(os.path.join(checkpoint_dir, \"best_checkpoint.pth\"), map_location=device)\n",
        "model.load_state_dict(checkpoint[\"model_state\"])\n"
      ]
    },
    {
      "cell_type": "code",
      "execution_count": 12,
      "metadata": {},
      "outputs": [
        {
          "data": {
            "image/png": "[encoded data removed]",
            "text/plain": [
              "<Figure size 640x480 with 2 Axes>"
            ]
          },
          "metadata": {},
          "output_type": "display_data"
        },
        {
          "name": "stdout",
          "output_type": "stream",
          "text": [
            "Final Validation Accuracy: 0.5000\n"
          ]
        }
      ],
      "source": [
        "all_preds, all_labels = [], []\n",
        "\n",
        "model.eval()  # Make sure model is in evaluation mode\n",
        "with torch.no_grad():\n",
        "    for images, labels in val_loader:\n",
        "        images = images.to(device)\n",
        "        labels = labels.to(device)\n",
        "        outputs = model(images)\n",
        "        preds = (outputs > 0.5).float()\n",
        "        all_preds.extend(preds.cpu().numpy())\n",
        "        all_labels.extend(labels.cpu().numpy())\n",
        "\n",
        "# Confusion matrix\n",
        "cm = confusion_matrix(all_labels, all_preds)\n",
        "disp = ConfusionMatrixDisplay(cm, display_labels=[\"Real\", \"Fake\"])\n",
        "disp.plot(cmap=plt.cm.Blues)\n",
        "plt.title(\"Confusion Matrix - Final Model\")\n",
        "plt.show()\n",
        "\n",
        "all_preds = np.array(all_preds)\n",
        "all_labels = np.array(all_labels)\n",
        "\n",
        "# Final validation accuracy\n",
        "val_acc = (all_preds == all_labels).mean()\n",
        "print(f\"Final Validation Accuracy: {val_acc:.4f}\")\n"
      ]
    },
    {
      "cell_type": "code",
      "execution_count": null,
      "metadata": {},
      "outputs": [
        {
          "name": "stdout",
          "output_type": "stream",
          "text": [
            "ROC AUC Score: 0.6658\n",
            "Classification Report:\n",
            "               precision    recall  f1-score   support\n",
            "\n",
            "        Real       0.60      0.98      0.75     12000\n",
            "        Fake       0.96      0.35      0.51     12000\n",
            "\n",
            "    accuracy                           0.67     24000\n",
            "   macro avg       0.78      0.67      0.63     24000\n",
            "weighted avg       0.78      0.67      0.63     24000\n",
            "\n"
          ]
        }
      ],
      "source": [
        "# r2 score\n",
        "r2 = roc_auc_score(all_labels, all_preds)\n",
        "print(f\"ROC AUC Score: {r2:.4f}\")\n",
        "\n",
        "# classification report\n",
        "report = classification_report(all_labels, all_preds, target_names=[\"Real\", \"Fake\"])\n",
        "print(\"Classification Report:\\n\", report)\n"
      ]
    },
    {
      "cell_type": "code",
      "execution_count": 17,
      "metadata": {},
      "outputs": [
        {
          "name": "stdout",
          "output_type": "stream",
          "text": [
            "Val loss: 0.5111, Val acc: 0.7267\n",
            "              precision    recall  f1-score   support\n",
            "\n",
            "          ai       0.65      0.97      0.78     12000\n",
            "      nature       0.94      0.49      0.64     12000\n",
            "\n",
            "    accuracy                           0.73     24000\n",
            "   macro avg       0.79      0.73      0.71     24000\n",
            "weighted avg       0.79      0.73      0.71     24000\n",
            "\n",
            "ROC AUC: 0.9202571701388889\n"
          ]
        }
      ],
      "source": [
        "# Detailed evaluation with probabilities\n",
        "\n",
        "model.eval()\n",
        "all_probs, all_preds, all_labels = [], [], []\n",
        "val_loss = 0.0\n",
        "criterion = nn.BCEWithLogitsLoss()\n",
        "\n",
        "with torch.no_grad():\n",
        "    for images, labels in val_loader:\n",
        "        images, labels = images.to(device), labels.float().unsqueeze(1).to(device)\n",
        "        outputs = model(images)\n",
        "        loss = criterion(outputs, labels)\n",
        "        val_loss += loss.item() * images.size(0)\n",
        "        probs = torch.sigmoid(outputs).cpu().numpy().ravel()\n",
        "        preds = (probs > 0.5).astype(int)\n",
        "        all_probs.extend(probs.tolist())\n",
        "        all_preds.extend(preds.tolist())\n",
        "        all_labels.extend(labels.cpu().numpy().ravel().astype(int).tolist())\n",
        "\n",
        "val_loss = val_loss / len(val_dataset)\n",
        "print(f\"Val loss: {val_loss:.4f}, Val acc: {np.mean(np.array(all_preds)==np.array(all_labels)):.4f}\")\n",
        "\n",
        "# Classification report + AUC\n",
        "print(classification_report(all_labels, all_preds, target_names=train_dataset.classes))\n",
        "try:\n",
        "    auc = roc_auc_score(all_labels, all_probs)\n",
        "    print(\"ROC AUC:\", auc)\n",
        "except Exception as e:\n",
        "    print(\"ROC AUC could not be computed:\", e)\n"
      ]
    },
    {
      "cell_type": "markdown",
      "metadata": {},
      "source": [
        "### Testing on VQDM val dataset"
      ]
    },
    {
      "cell_type": "code",
      "execution_count": null,
      "metadata": {},
      "outputs": [],
      "source": [
        "VQDM_test_dir = rf'D:\\sarthak\\RCOEM\\3rd\\Projects\\ML\\Synthetic Media detection\\Datasets\\VQDM\\imagenet_ai_0419_vqdm\\imagenet_ai_0419_vqdm\\val'\n",
        "VQDM_val_dataset = datasets.ImageFolder(root=VQDM_test_dir, transform=val_transform)\n",
        "VQDM_val_loader = DataLoader(VQDM_val_dataset, batch_size=batch_size, shuffle=False, num_workers=2, pin_memory=True)\n"
      ]
    },
    {
      "cell_type": "code",
      "execution_count": null,
      "metadata": {},
      "outputs": [],
      "source": [
        "model.eval()\n",
        "correct, total = 0, 0\n",
        "with torch.no_grad():\n",
        "    for images, labels in VQDM_val_loader:\n",
        "        images, labels = images.to(device), labels.to(device)\n",
        "        outputs = model(images)\n",
        "        preds = (torch.sigmoid(outputs) > 0.5).float()\n",
        "        correct += (preds == labels.unsqueeze(1)).sum().item()\n",
        "        total += labels.size(0)\n",
        "\n",
        "val_acc = correct / total\n",
        "scheduler.step(val_acc)\n"
      ]
    },
    {
      "cell_type": "code",
      "execution_count": null,
      "metadata": {},
      "outputs": [],
      "source": [
        "print(val_acc)\n"
      ]
    },
    {
      "cell_type": "code",
      "execution_count": null,
      "metadata": {},
      "outputs": [],
      "source": [
        "torch.cuda.empty_cache()\n"
      ]
    },
    {
      "cell_type": "code",
      "execution_count": null,
      "metadata": {},
      "outputs": [],
      "source": [
        "all_preds_VQDM, all_labels_VQDM = [], []\n",
        "\n",
        "model.eval()  # Make sure model is in evaluation mode\n",
        "with torch.no_grad():\n",
        "    for images, labels in VQDM_val_loader:\n",
        "        images = images.to(device)\n",
        "        labels = labels.to(device)\n",
        "        outputs = model(images)\n",
        "        preds = (outputs > 0.5).float()\n",
        "        all_preds_VQDM.extend(preds.cpu().numpy())\n",
        "        all_labels_VQDM.extend(labels.cpu().numpy())\n",
        "\n",
        "# Confusion matrix\n",
        "cm = confusion_matrix(all_labels_VQDM, all_preds_VQDM)\n",
        "disp = ConfusionMatrixDisplay(cm, display_labels=[\"Real\", \"Fake\"])\n",
        "disp.plot(cmap=plt.cm.Reds)\n",
        "plt.title(\"Confusion Matrix - VQDM val dataset\")\n",
        "plt.show()\n",
        "\n",
        "all_preds_VQDM = np.array(all_preds_VQDM)\n",
        "all_labels_VQDM = np.array(all_labels_VQDM)\n",
        "\n",
        "# Final validation accuracy\n",
        "val_acc = (all_preds_VQDM == all_labels_VQDM).mean()\n",
        "print(f\"Final VQDM Validation Accuracy: {val_acc:.4f}\")\n"
      ]
    },
    {
      "cell_type": "markdown",
      "metadata": {},
      "source": [
        "### Evaluation"
      ]
    },
    {
      "cell_type": "code",
      "execution_count": null,
      "metadata": {},
      "outputs": [],
      "source": [
        "def evaluate_images(model, image_paths, transform, device):\n",
        "    \"\"\"\n",
        "    Display predictions for multiple input images with confidence scores.\n",
        "\n",
        "    Args:\n",
        "        model: Trained PyTorch model.\n",
        "        image_paths: List of image file paths.\n",
        "        transform: Transform pipeline (e.g., val_transform).\n",
        "        device: 'cuda' or 'cpu'.\n",
        "    \"\"\"\n",
        "\n",
        "    model.eval()\n",
        "    plt.figure(figsize=(14, 6))\n",
        "\n",
        "    for i, img_path in enumerate(image_paths):\n",
        "        try:\n",
        "            # Load and preprocess image\n",
        "            img = Image.open(img_path).convert(\"RGB\")\n",
        "            img_t = transform(img).unsqueeze(0).to(device)\n",
        "\n",
        "            # Predict\n",
        "            with torch.no_grad():\n",
        "                output = model(img_t)\n",
        "                prob = torch.sigmoid(output).item()\n",
        "\n",
        "            # Classification decision\n",
        "            label = \"Fake (AI-generated)\" if prob > 0.5 else \"Real (original)\"\n",
        "            conf = prob if prob > 0.5 else 1 - prob\n",
        "\n",
        "            # Plotting\n",
        "            plt.subplot(2, (len(image_paths) + 1) // 2, i + 1)\n",
        "            plt.imshow(np.array(img))\n",
        "            plt.axis(\"off\")\n",
        "            plt.title(f\"{label}\\nConf: {conf:.3f}\", fontsize=10)\n",
        "\n",
        "        except Exception as e:\n",
        "            print(f\"Error processing {img_path}: {e}\")\n",
        "\n",
        "    plt.tight_layout()\n",
        "    plt.show()\n",
        "\n"
      ]
    },
    {
      "cell_type": "code",
      "execution_count": null,
      "metadata": {},
      "outputs": [],
      "source": [
        "image_paths = []\n",
        "\n",
        "evaluate_images(model, image_paths, val_transform, device)\n"
      ]
    },
    {
      "cell_type": "code",
      "execution_count": null,
      "metadata": {},
      "outputs": [],
      "source": []
    }
  ],
  "metadata": {
    "accelerator": "GPU",
    "colab": {
      "gpuType": "T4",
      "provenance": []
    },
    "kernelspec": {
      "display_name": "Python(cuda-venv)",
      "language": "python",
      "name": "cuda-venv"
    },
    "language_info": {
      "codemirror_mode": {
        "name": "ipython",
        "version": 3
      },
      "file_extension": ".py",
      "mimetype": "text/x-python",
      "name": "python",
      "nbconvert_exporter": "python",
      "pygments_lexer": "ipython3",
      "version": "3.11.0"
    }
  },
  "nbformat": 4,
  "nbformat_minor": 0
}
